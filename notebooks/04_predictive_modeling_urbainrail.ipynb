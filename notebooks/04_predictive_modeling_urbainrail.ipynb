{
 "cells": [
  {
   "cell_type": "markdown",
   "id": "e16a6bba-8fbf-44e5-8dc8-f1a60c719512",
   "metadata": {},
   "source": [
    "# **Predictive Modelling**"
   ]
  },
  {
   "cell_type": "code",
   "execution_count": 4,
   "id": "d2489b46-1b08-4932-ac56-4473077d104d",
   "metadata": {},
   "outputs": [],
   "source": [
    "import pandas as pd\n",
    "import os\n",
    "\n",
    "os.chdir(\"C:/Users/lunwe/Desktop/Malaysia-Public-Transport-Optimization\")\n",
    "df = pd.read_csv(\"data/processed/ridership_reduced.csv\")"
   ]
  },
  {
   "cell_type": "code",
   "execution_count": 6,
   "id": "794e702f-da2d-4149-8fe6-95c094525b6b",
   "metadata": {},
   "outputs": [
    {
     "data": {
      "text/plain": [
       "(         date  rail_lrt_ampang  rail_mrt_kajang  rail_lrt_kj  rail_monorail  \\\n",
       " 0  2019-01-01           113357           114173       139634          35804   \n",
       " 1  2019-01-02           182715           169316       274224          31859   \n",
       " 2  2019-01-03           187904           175304       286469          31893   \n",
       " 3  2019-01-04           198420           187891       304755          34121   \n",
       " 4  2019-01-05           120773           112660       145036          29950   \n",
       " \n",
       "    rail_mrt_pjy  year  month    weekday  is_weekend  total_ridership  \n",
       " 0             0  2019      1    Tuesday       False           402968  \n",
       " 1             0  2019      1  Wednesday       False           658114  \n",
       " 2             0  2019      1   Thursday       False           681570  \n",
       " 3             0  2019      1     Friday       False           725187  \n",
       " 4             0  2019      1   Saturday        True           408419  ,\n",
       " ['date',\n",
       "  'rail_lrt_ampang',\n",
       "  'rail_mrt_kajang',\n",
       "  'rail_lrt_kj',\n",
       "  'rail_monorail',\n",
       "  'rail_mrt_pjy',\n",
       "  'year',\n",
       "  'month',\n",
       "  'weekday',\n",
       "  'is_weekend',\n",
       "  'total_ridership'])"
      ]
     },
     "execution_count": 6,
     "metadata": {},
     "output_type": "execute_result"
    }
   ],
   "source": [
    "df.head(), df.columns.tolist()"
   ]
  },
  {
   "cell_type": "code",
   "execution_count": null,
   "id": "1f74e179-4237-437f-bae7-cf04857a5327",
   "metadata": {},
   "outputs": [],
   "source": []
  }
 ],
 "metadata": {
  "kernelspec": {
   "display_name": "Python [conda env:base] *",
   "language": "python",
   "name": "conda-base-py"
  },
  "language_info": {
   "codemirror_mode": {
    "name": "ipython",
    "version": 3
   },
   "file_extension": ".py",
   "mimetype": "text/x-python",
   "name": "python",
   "nbconvert_exporter": "python",
   "pygments_lexer": "ipython3",
   "version": "3.11.5"
  }
 },
 "nbformat": 4,
 "nbformat_minor": 5
}
